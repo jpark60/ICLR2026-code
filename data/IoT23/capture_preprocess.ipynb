{
 "cells": [
  {
   "cell_type": "code",
   "execution_count": null,
   "id": "281b54c7",
   "metadata": {},
   "outputs": [],
   "source": [
    "import os, numpy as np, pandas as pd\n",
    "from sklearn.preprocessing import StandardScaler, LabelEncoder\n",
    "from sklearn.model_selection import train_test_split\n",
    "from sklearn.impute import SimpleImputer"
   ]
  },
  {
   "cell_type": "code",
   "execution_count": null,
   "id": "7f0894bb",
   "metadata": {},
   "outputs": [],
   "source": [
    "ROOT = \"/scratch/Malware/iot23/mal_family_capture\""
   ]
  },
  {
   "cell_type": "code",
   "execution_count": null,
   "id": "44c9bd7d",
   "metadata": {},
   "outputs": [],
   "source": [
    "all_column = ['ts', 'uid', 'id.orig_h', 'id.orig_p', 'id.resp_h', 'id.resp_p', 'proto', 'service', 'duration', 'orig_bytes', 'resp_bytes', 'conn_state', 'local_orig', 'local_resp', 'missed_bytes', 'history', 'orig_pkts', 'orig_ip_bytes', 'resp_pkts', 'resp_ip_bytes', 'tunnel_parents', 'label', 'detailed-label', 'Label']\n",
    "exclude_column = ['ts','uid','id.orig_h', 'id.resp_h', 'local_orig', 'local_resp','detailed-label','tunnel_parents','service','history']\n",
    "\n",
    "column_names = [column for column in all_column if column not in exclude_column]"
   ]
  },
  {
   "cell_type": "code",
   "execution_count": null,
   "id": "cf354b63",
   "metadata": {},
   "outputs": [],
   "source": [
    "dfs = []\n",
    "for csv in os.listdir(ROOT):\n",
    "    if csv.endswith(\".csv\"):\n",
    "        df = pd.read_csv(os.path.join(ROOT, csv))\n",
    "        dfs.append(df)\n",
    "data = pd.concat(dfs, ignore_index=True)"
   ]
  },
  {
   "cell_type": "code",
   "execution_count": null,
   "id": "6a43d524",
   "metadata": {},
   "outputs": [],
   "source": [
    "features_dict = {\n",
    "    'id.orig_p': 'Int64',\n",
    "    'id.resp_p': 'Int64',\n",
    "    'proto': 'string',\n",
    "    'duration': 'Float64',  \n",
    "    'conn_state': 'string',\n",
    "    'missed_bytes': 'Int64',\n",
    "    'orig_pkts': 'Int64',\n",
    "    'orig_ip_bytes': 'Int64',\n",
    "    'resp_pkts': 'Int64',\n",
    "    'resp_ip_bytes': 'Int64',\n",
    "    'label': 'string',\n",
    "    'Label': 'string'\n",
    "}\n",
    "\n",
    "data = data[data['label'] == 'Malicious']\n",
    "\n",
    "reduced_iot_dataset = data.loc[:, column_names].replace('-', pd.NA)\n",
    "before = len(reduced_iot_dataset)\n",
    "reduced_iot_dataset = reduced_iot_dataset.drop_duplicates()\n",
    "after = len(reduced_iot_dataset)\n",
    "\n",
    "for col in ['orig_bytes', 'resp_bytes']:\n",
    "    reduced_iot_dataset[col] = pd.to_numeric(reduced_iot_dataset[col], errors='coerce')\n",
    "    reduced_iot_dataset[col] = reduced_iot_dataset[col].astype('Int64')\n",
    "\n",
    "print(f\"before exclude duplicates: {before:,} rows\")\n",
    "print(f\"after excluding duplicates: {after:,} rows\")\n",
    "print(f\"before - after: {before - after:,} rows\")\n",
    "print(f\"rate of reduction: {(before - after) / before:.2%}\")\n",
    "\n",
    "reduced_iot_dataset = reduced_iot_dataset.astype(features_dict)"
   ]
  },
  {
   "cell_type": "code",
   "execution_count": null,
   "id": "78c59534",
   "metadata": {},
   "outputs": [],
   "source": [
    "print(reduced_iot_dataset.isna().sum().sort_values(ascending=False))\n"
   ]
  },
  {
   "cell_type": "code",
   "execution_count": null,
   "id": "c300890b",
   "metadata": {},
   "outputs": [],
   "source": [
    "target_columns = ['orig_bytes', 'resp_bytes', 'missed_bytes']\n",
    "\n",
    "for col in target_columns:\n",
    "    non_numeric = reduced_iot_dataset[col][\n",
    "        ~pd.to_numeric(reduced_iot_dataset[col], errors='coerce').notna()\n",
    "    ].unique()\n",
    "    print(f\"Non-numeric in '{col}':\", non_numeric)\n"
   ]
  },
  {
   "cell_type": "code",
   "execution_count": null,
   "id": "b0a45a29",
   "metadata": {},
   "outputs": [],
   "source": [
    "int_columns = [col for col, dtype in features_dict.items() if dtype == 'Int64']\n",
    "\n",
    "print(\"Int64 column info:\")\n",
    "for col in int_columns:\n",
    "    col_data = reduced_iot_dataset[col]\n",
    "    print(f\"{col:<15} | min: {col_data.min():>10} | max: {col_data.max():>10} | mean: {col_data.mean():>10.2f} | \"\n",
    "          f\"NA: {col_data.isna().sum():>6} | unique: {col_data.nunique():>6}\")\n"
   ]
  },
  {
   "cell_type": "code",
   "execution_count": null,
   "id": "ab958dfa",
   "metadata": {},
   "outputs": [],
   "source": [
    "log_cols = ['id.orig_p', 'orig_pkts', 'orig_ip_bytes', 'resp_ip_bytes']\n",
    "for col in log_cols:\n",
    "    reduced_iot_dataset[col] = np.log1p(reduced_iot_dataset[col])\n"
   ]
  },
  {
   "cell_type": "code",
   "execution_count": null,
   "id": "2f8234b7",
   "metadata": {},
   "outputs": [],
   "source": [
    "cols_to_log = ['id.orig_p', 'orig_pkts', 'orig_ip_bytes', 'resp_ip_bytes']\n",
    "print(data[cols_to_log].isna().sum())"
   ]
  },
  {
   "cell_type": "code",
   "execution_count": null,
   "id": "32635c8c",
   "metadata": {},
   "outputs": [],
   "source": [
    "print(reduced_iot_dataset['Label'].value_counts())"
   ]
  },
  {
   "cell_type": "code",
   "execution_count": null,
   "id": "1edd0043",
   "metadata": {},
   "outputs": [],
   "source": [
    "print(\"proto unique values:\", data['proto'].dropna().unique())\n",
    "print(\"conn_state unique values:\", data['conn_state'].dropna().unique())\n"
   ]
  },
  {
   "cell_type": "code",
   "execution_count": null,
   "id": "ff446f16",
   "metadata": {},
   "outputs": [],
   "source": [
    "X = reduced_iot_dataset.drop(columns=['label', 'Label'])\n",
    "y = reduced_iot_dataset['Label']  \n",
    "\n",
    "le = LabelEncoder()\n",
    "y_enc = le.fit_transform(y)\n",
    "\n",
    "print(\"X_shapr\", X.shape)\n",
    "print(\"y_enc shape\", y_enc.shape)\n",
    "print(X.head(10))\n",
    "print(\"X feature:\", X.shape[1])\n",
    "print(y_enc[:10])"
   ]
  },
  {
   "cell_type": "code",
   "execution_count": null,
   "id": "dfc0771e",
   "metadata": {},
   "outputs": [],
   "source": [
    "# One-hot encoding\n",
    "X_encoded = pd.get_dummies(X, columns=['proto', 'conn_state'])\n",
    "\n",
    "# Results\n",
    "print(\"One-hot encoded shape:\", X_encoded.shape)\n",
    "print(\"New columns:\", [col for col in X_encoded.columns if 'proto_' in col or 'conn_state_' in col])"
   ]
  },
  {
   "cell_type": "code",
   "execution_count": null,
   "id": "b542f7f7",
   "metadata": {},
   "outputs": [],
   "source": [
    "print(X_encoded.columns.tolist())"
   ]
  },
  {
   "cell_type": "code",
   "execution_count": null,
   "id": "ef0ae059",
   "metadata": {},
   "outputs": [],
   "source": [
    "# 1. train / temp (valid+test)\n",
    "X_train_raw, X_temp_raw, y_train, y_temp = train_test_split(\n",
    "    X_encoded, y_enc, test_size=0.2, random_state=42, stratify=y_enc\n",
    ")\n",
    "\n",
    "# 2. valid / test\n",
    "X_valid_raw, X_test_raw, y_valid, y_test = train_test_split(\n",
    "    X_temp_raw, y_temp, test_size=0.5, random_state=42, stratify=y_temp\n",
    ")\n",
    "\n",
    "# Step 1: Impute missing values\n",
    "imputer = SimpleImputer(strategy='mean')\n",
    "X_train_imputed = imputer.fit_transform(X_train_raw)\n",
    "X_test_imputed = imputer.transform(X_test_raw)\n",
    "X_valid_imputed = imputer.transform(X_valid_raw)\n",
    "\n",
    "# Step 2: Scale features\n",
    "scaler = StandardScaler()\n",
    "X_train_scaled = scaler.fit_transform(X_train_imputed)\n",
    "X_test_scaled = scaler.transform(X_test_imputed)\n",
    "X_valid_scaled = scaler.transform(X_valid_imputed)"
   ]
  },
  {
   "cell_type": "code",
   "execution_count": null,
   "id": "54abc46a",
   "metadata": {},
   "outputs": [],
   "source": [
    "print(X_encoded.head())"
   ]
  },
  {
   "cell_type": "code",
   "execution_count": null,
   "id": "18750a5a",
   "metadata": {},
   "outputs": [],
   "source": [
    "# save\n",
    "np.save(\"/scratch/Malware/iot23/data/X_train.npy\", X_train_scaled)\n",
    "np.save(\"/scratch/Malware/iot23/data/y_train.npy\", y_train)\n",
    "np.save(\"/scratch/Malware/iot23/data/X_valid.npy\",  X_valid_scaled)\n",
    "np.save(\"/scratch/Malware/iot23/data/y_valid.npy\",  y_valid)\n",
    "np.save(\"/scratch/Malware/iot23/data/X_test.npy\",  X_test_scaled)\n",
    "np.save(\"/scratch/Malware/iot23/data/y_test.npy\",  y_test)\n",
    "\n",
    "\n",
    "print(\"Train shape :\", X_train_scaled.shape, \"   Test shape :\", X_test_scaled.shape)\n",
    "print(\"Classes:\", le.classes_)\n",
    "\n",
    "print(\"X_train type:\", type(X_train_scaled))\n",
    "print(\"y_train type:\", type(y_train))\n",
    "print(\"X_test  type:\", type(X_test_scaled))\n",
    "print(\"y_test  type:\", type(y_test))\n",
    "print(\"X_test  type:\", type(X_valid_scaled))\n",
    "print(\"y_test  type:\", type(y_valid))\n",
    "\n",
    "# Feature names & name matching\n",
    "feature_names = column_names\n",
    "print(\"\\n=== feature index and name matching ===\")\n",
    "for i, feature_name in enumerate(X_encoded.columns):\n",
    "    print(f\"Index {i:3d}: {feature_name}\")\n",
    "\n",
    "print(\"end\")"
   ]
  }
 ],
 "metadata": {
  "kernelspec": {
   "display_name": "tf2",
   "language": "python",
   "name": "python3"
  },
  "language_info": {
   "codemirror_mode": {
    "name": "ipython",
    "version": 3
   },
   "file_extension": ".py",
   "mimetype": "text/x-python",
   "name": "python",
   "nbconvert_exporter": "python",
   "pygments_lexer": "ipython3",
   "version": "3.8.20"
  }
 },
 "nbformat": 4,
 "nbformat_minor": 5
}
